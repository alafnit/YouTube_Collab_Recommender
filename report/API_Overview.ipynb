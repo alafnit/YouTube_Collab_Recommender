{
 "cells": [
  {
   "cell_type": "markdown",
   "metadata": {},
   "source": [
    "# YouTube Data API Overview"
   ]
  },
  {
   "cell_type": "markdown",
   "metadata": {},
   "source": [
    "## Building our Queries"
   ]
  },
  {
   "cell_type": "markdown",
   "metadata": {},
   "source": [
    "First we need to set up our imports. As is standard, we'll import numpy and pandas for data handling, but we'll also include os and sys. OS will allow us to use our YouTube API keys without revealing them explicitly, and SYS will allow us to call on a pre-written code illustrating how I used the API for the majority of the project. Finally, build from apiclient.discovery is how we actually pull requests from the API."
   ]
  },
  {
   "cell_type": "code",
   "execution_count": 1,
   "metadata": {
    "collapsed": true
   },
   "outputs": [],
   "source": [
    "import os\n",
    "import sys\n",
    "import numpy as np\n",
    "import pandas as pd\n",
    "from apiclient.discovery import build\n",
    "sys.path.insert(0, '../YTCollab/src')\n",
    "\n",
    "import extract_data"
   ]
  },
  {
   "cell_type": "markdown",
   "metadata": {},
   "source": [
    "Now we build our query object, which we should be able to use for all requests for the duration of the overview."
   ]
  },
  {
   "cell_type": "code",
   "execution_count": 2,
   "metadata": {
    "collapsed": true
   },
   "outputs": [],
   "source": [
    "DEVELOPER_KEY = os.environ[\"COLLAB_CLIENT_KEY\"]\n",
    "YOUTUBE_API_SERVICE_NAME = \"youtube\"\n",
    "YOUTUBE_API_VERSION = \"v3\"\n",
    "\n",
    "youtube = build(YOUTUBE_API_SERVICE_NAME, YOUTUBE_API_VERSION, developerKey=DEVELOPER_KEY)"
   ]
  },
  {
   "cell_type": "markdown",
   "metadata": {},
   "source": [
    "Using this build object, we should be able to request any information available to the public on YouTube. Let's try it out on a sample channel: my own."
   ]
  },
  {
   "cell_type": "markdown",
   "metadata": {},
   "source": [
    "## Channels"
   ]
  },
  {
   "cell_type": "markdown",
   "metadata": {},
   "source": [
    "To do this we need a YouTube Channel ID, which is typically available at the end of a channel's URL, though not always as some channels use custom URLs. Even so, channel ID's can also be requested through the API, but in this case I already know mine. Note that without authorization for a particular account or channel, information can only be requested, not updated.\n",
    "\n",
    "Let's request the most readily available information now. The part parameter of 'snippet' gives most information visible from a channel's main page, such as the channel name, country, description, creation date, even avatar urls. This is returned to us in JSON format."
   ]
  },
  {
   "cell_type": "code",
   "execution_count": 3,
   "metadata": {
    "collapsed": false
   },
   "outputs": [
    {
     "data": {
      "text/plain": [
       "{u'etag': u'\"Ys-tbHJFobljHLVY8LWdvmlIJ3Q/h12BCee15OHkG0pcpT5bI02DcFo\"',\n",
       " u'items': [{u'etag': u'\"Ys-tbHJFobljHLVY8LWdvmlIJ3Q/kmpD0OQXXKhAjVbjws_SUGX-jGU\"',\n",
       "   u'id': u'UCcx01rLXJ4dCtXqW3kPmBzg',\n",
       "   u'kind': u'youtube#channel',\n",
       "   u'snippet': {u'country': u'US',\n",
       "    u'description': u\"Hello, I'm LichWick. I like playing games and I like being weird. So I thought why not combine the two and put it on the internet for all to enjoy~ Or not. I can't tell you what to do. \\n\\nIf you like the flavor of my personality or the content of my videos or even if you have nothing else to do, be sure to subscribe for more!\",\n",
       "    u'localized': {u'description': u\"Hello, I'm LichWick. I like playing games and I like being weird. So I thought why not combine the two and put it on the internet for all to enjoy~ Or not. I can't tell you what to do. \\n\\nIf you like the flavor of my personality or the content of my videos or even if you have nothing else to do, be sure to subscribe for more!\",\n",
       "     u'title': u'LichWick'},\n",
       "    u'publishedAt': u'2015-01-22T06:38:48.000Z',\n",
       "    u'thumbnails': {u'default': {u'url': u'https://yt3.ggpht.com/-EDh_YfYrzhc/AAAAAAAAAAI/AAAAAAAAAAA/FpQ-ymfrsVE/s88-c-k-no-rj-c0xffffff/photo.jpg'},\n",
       "     u'high': {u'url': u'https://yt3.ggpht.com/-EDh_YfYrzhc/AAAAAAAAAAI/AAAAAAAAAAA/FpQ-ymfrsVE/s240-c-k-no-rj-c0xffffff/photo.jpg'},\n",
       "     u'medium': {u'url': u'https://yt3.ggpht.com/-EDh_YfYrzhc/AAAAAAAAAAI/AAAAAAAAAAA/FpQ-ymfrsVE/s240-c-k-no-rj-c0xffffff/photo.jpg'}},\n",
       "    u'title': u'LichWick'}}],\n",
       " u'kind': u'youtube#channelListResponse',\n",
       " u'pageInfo': {u'resultsPerPage': 1, u'totalResults': 1}}"
      ]
     },
     "execution_count": 3,
     "metadata": {},
     "output_type": "execute_result"
    }
   ],
   "source": [
    "lichwickid = 'UCcx01rLXJ4dCtXqW3kPmBzg'\n",
    "\n",
    "LichWick = youtube.channels().list(part='snippet', id=lichwickid).execute()\n",
    "LichWick"
   ]
  },
  {
   "cell_type": "markdown",
   "metadata": {},
   "source": [
    "## PlaylistItems"
   ]
  },
  {
   "cell_type": "markdown",
   "metadata": {},
   "source": [
    "Similarly if we use 'statistics' instead of 'snippet' we would receive a channel's various public statistics, such as subs, views, videos, and comments. However, for the next stage of the API exploration, we will need to use 'contentDetails' to find a channels videos."
   ]
  },
  {
   "cell_type": "code",
   "execution_count": 4,
   "metadata": {
    "collapsed": false
   },
   "outputs": [
    {
     "name": "stdout",
     "output_type": "stream",
     "text": [
      "UUcx01rLXJ4dCtXqW3kPmBzg\n"
     ]
    }
   ],
   "source": [
    "LichWickContents = youtube.channels().list(part='contentDetails', id=lichwickid).execute()\n",
    "uploads = LichWickContents['items'][0]['contentDetails']['relatedPlaylists']['uploads']\n",
    "print uploads"
   ]
  },
  {
   "cell_type": "markdown",
   "metadata": {},
   "source": [
    "This is the playlist id for our channel's upload list. If we use playlistitems instead of channels in our query, we will instead receive the videos in a specific playlist instead of the data from a specific channel. In this case, the upload playlist is a full list of each video the owning channel has ever uploaded, generally ordered by publishing date descending. In other words, the more recently a video has been published the earlier it occurs in the playlist.\n",
    "\n",
    "This rule doesn't apply to all playlists of course, but it is the default setting of the upload playlist for each channel so we can more or less make this assumption for any channel we extract from. Moving on, let's see what's in our channel's upload list."
   ]
  },
  {
   "cell_type": "code",
   "execution_count": 5,
   "metadata": {
    "collapsed": false
   },
   "outputs": [
    {
     "data": {
      "text/plain": [
       "{u'etag': u'\"Ys-tbHJFobljHLVY8LWdvmlIJ3Q/OZH0iOh6gjmjetlTzomD-4SNJP8\"',\n",
       " u'items': [{u'contentDetails': {u'videoId': u'rQJ-7cvRs5w'},\n",
       "   u'etag': u'\"Ys-tbHJFobljHLVY8LWdvmlIJ3Q/FoM8-O1J-B4KKUJvL2TYP1Vy5q0\"',\n",
       "   u'id': u'VVVjeDAxckxYSjRkQ3RYcVcza1BtQnpnLnJRSi03Y3ZSczV3',\n",
       "   u'kind': u'youtube#playlistItem',\n",
       "   u'snippet': {u'channelId': u'UCcx01rLXJ4dCtXqW3kPmBzg',\n",
       "    u'channelTitle': u'LichWick',\n",
       "    u'description': u'Today, Grandma goes back to tie up a few loose ends before venturing out into the bleak dark unknown...\\n\\nDark Souls 3 is an Action RPG by From Software following the Unkindled, an undead hero from an unknown land. As they journey across the ashen land of Lothric, they will meet an assortment of depressing characters and slay a veritable bounty of wretched fiends and horrifying monstrosities on a quest to unite the Lords of Cinder and bring them back to their moulding thrones. Can the Unkindled complete their task before the Age of Fire comes to a withering end, or will the world be once again swallowed in an Age of Darkness?',\n",
       "    u'playlistId': u'UUcx01rLXJ4dCtXqW3kPmBzg',\n",
       "    u'position': 0,\n",
       "    u'publishedAt': u'2016-04-19T17:40:51.000Z',\n",
       "    u'resourceId': {u'kind': u'youtube#video', u'videoId': u'rQJ-7cvRs5w'},\n",
       "    u'thumbnails': {u'default': {u'height': 90,\n",
       "      u'url': u'https://i.ytimg.com/vi/rQJ-7cvRs5w/default.jpg',\n",
       "      u'width': 120},\n",
       "     u'high': {u'height': 360,\n",
       "      u'url': u'https://i.ytimg.com/vi/rQJ-7cvRs5w/hqdefault.jpg',\n",
       "      u'width': 480},\n",
       "     u'maxres': {u'height': 720,\n",
       "      u'url': u'https://i.ytimg.com/vi/rQJ-7cvRs5w/maxresdefault.jpg',\n",
       "      u'width': 1280},\n",
       "     u'medium': {u'height': 180,\n",
       "      u'url': u'https://i.ytimg.com/vi/rQJ-7cvRs5w/mqdefault.jpg',\n",
       "      u'width': 320},\n",
       "     u'standard': {u'height': 480,\n",
       "      u'url': u'https://i.ytimg.com/vi/rQJ-7cvRs5w/sddefault.jpg',\n",
       "      u'width': 640}},\n",
       "    u'title': u'Dark Souls 3 | Ep. 2: Crystal Beast'}}],\n",
       " u'kind': u'youtube#playlistItemListResponse',\n",
       " u'nextPageToken': u'CAEQAA',\n",
       " u'pageInfo': {u'resultsPerPage': 1, u'totalResults': 187}}"
      ]
     },
     "execution_count": 5,
     "metadata": {},
     "output_type": "execute_result"
    }
   ],
   "source": [
    "LichWickUploads = youtube.playlistItems().list(part='snippet,contentDetails', playlistId=uploads, maxResults=1).execute()\n",
    "LichWickUploads"
   ]
  },
  {
   "cell_type": "markdown",
   "metadata": {},
   "source": [
    "To save space, we've only called the first item in the list. Once again, 'snippet' provides a lot of general information but if we're actually going to take a look at the video's data, we need to know its id, given by 'contentDetails'. So let's store that and move on to the next stage."
   ]
  },
  {
   "cell_type": "code",
   "execution_count": 6,
   "metadata": {
    "collapsed": false
   },
   "outputs": [
    {
     "name": "stdout",
     "output_type": "stream",
     "text": [
      "rQJ-7cvRs5w\n"
     ]
    }
   ],
   "source": [
    "video = LichWickUploads['items'][0]['contentDetails']['videoId']\n",
    "print video"
   ]
  },
  {
   "cell_type": "markdown",
   "metadata": {},
   "source": [
    "## Videos"
   ]
  },
  {
   "cell_type": "markdown",
   "metadata": {},
   "source": [
    "Now the primary use of this particular type of query is to extract topic data, so I shall also give a demonstration of my method. For now though, let's get our query going using the ID we've just extracted from our upload list."
   ]
  },
  {
   "cell_type": "code",
   "execution_count": 7,
   "metadata": {
    "collapsed": false
   },
   "outputs": [
    {
     "data": {
      "text/plain": [
       "{u'etag': u'\"Ys-tbHJFobljHLVY8LWdvmlIJ3Q/gskN6kkAmeo3KG7sbKGqc3nnqx4\"',\n",
       " u'items': [{u'etag': u'\"Ys-tbHJFobljHLVY8LWdvmlIJ3Q/XZ6h1oOmjUH4ip4l8GgNKHvLIPI\"',\n",
       "   u'id': u'rQJ-7cvRs5w',\n",
       "   u'kind': u'youtube#video',\n",
       "   u'snippet': {u'categoryId': u'20',\n",
       "    u'channelId': u'UCcx01rLXJ4dCtXqW3kPmBzg',\n",
       "    u'channelTitle': u'LichWick',\n",
       "    u'defaultAudioLanguage': u'en',\n",
       "    u'description': u'Today, Grandma goes back to tie up a few loose ends before venturing out into the bleak dark unknown...\\n\\nDark Souls 3 is an Action RPG by From Software following the Unkindled, an undead hero from an unknown land. As they journey across the ashen land of Lothric, they will meet an assortment of depressing characters and slay a veritable bounty of wretched fiends and horrifying monstrosities on a quest to unite the Lords of Cinder and bring them back to their moulding thrones. Can the Unkindled complete their task before the Age of Fire comes to a withering end, or will the world be once again swallowed in an Age of Darkness?',\n",
       "    u'liveBroadcastContent': u'none',\n",
       "    u'localized': {u'description': u'Today, Grandma goes back to tie up a few loose ends before venturing out into the bleak dark unknown...\\n\\nDark Souls 3 is an Action RPG by From Software following the Unkindled, an undead hero from an unknown land. As they journey across the ashen land of Lothric, they will meet an assortment of depressing characters and slay a veritable bounty of wretched fiends and horrifying monstrosities on a quest to unite the Lords of Cinder and bring them back to their moulding thrones. Can the Unkindled complete their task before the Age of Fire comes to a withering end, or will the world be once again swallowed in an Age of Darkness?',\n",
       "     u'title': u'Dark Souls 3 | Ep. 2: Crystal Beast'},\n",
       "    u'publishedAt': u'2016-04-19T17:40:51.000Z',\n",
       "    u'tags': [u'Dark Souls 3',\n",
       "     u'LichWick',\n",
       "     u'LichWick Dark Souls 3',\n",
       "     u'Dark Souls',\n",
       "     u'Dark Souls 3 Sorcerer',\n",
       "     u'Dark Souls 3 Sorcerer Playthrough',\n",
       "     u'Dark Souls Sorcerer',\n",
       "     u'Dark Souls 3 Playthrough',\n",
       "     u'Dark Souls 3 Gameplay',\n",
       "     u'Lets Play Dark Souls 3',\n",
       "     u'From Software',\n",
       "     u'Dark Souls 3 Episode 2',\n",
       "     u'Episode 2',\n",
       "     u'Dark Souls 3 Walkthrough',\n",
       "     u'Dark Souls 3 Guide',\n",
       "     u'Dark Souls 3 Lore',\n",
       "     u'Dark Souls 3 Crystal Beast',\n",
       "     u'Crystal Beast',\n",
       "     u'Dark Souls Crystal Beast',\n",
       "     u'DS3',\n",
       "     u'Dark',\n",
       "     u'Souls',\n",
       "     u'Dark Souls III'],\n",
       "    u'thumbnails': {u'default': {u'height': 90,\n",
       "      u'url': u'https://i.ytimg.com/vi/rQJ-7cvRs5w/default.jpg',\n",
       "      u'width': 120},\n",
       "     u'high': {u'height': 360,\n",
       "      u'url': u'https://i.ytimg.com/vi/rQJ-7cvRs5w/hqdefault.jpg',\n",
       "      u'width': 480},\n",
       "     u'maxres': {u'height': 720,\n",
       "      u'url': u'https://i.ytimg.com/vi/rQJ-7cvRs5w/maxresdefault.jpg',\n",
       "      u'width': 1280},\n",
       "     u'medium': {u'height': 180,\n",
       "      u'url': u'https://i.ytimg.com/vi/rQJ-7cvRs5w/mqdefault.jpg',\n",
       "      u'width': 320},\n",
       "     u'standard': {u'height': 480,\n",
       "      u'url': u'https://i.ytimg.com/vi/rQJ-7cvRs5w/sddefault.jpg',\n",
       "      u'width': 640}},\n",
       "    u'title': u'Dark Souls 3 | Ep. 2: Crystal Beast'},\n",
       "   u'topicDetails': {u'relevantTopicIds': [u'/m/03bt1gh',\n",
       "     u'/m/06zm8z',\n",
       "     u'/m/0403l3g',\n",
       "     u'/m/0dgs3gt',\n",
       "     u'/m/025fwn',\n",
       "     u'/m/01mw1',\n",
       "     u'/m/0p8xwrr',\n",
       "     u'/m/025zzc',\n",
       "     u'/m/0bzvm2',\n",
       "     u'/m/0403l3g',\n",
       "     u'/m/025zzc',\n",
       "     u'/m/06zm8z'],\n",
       "    u'topicIds': [u'/m/013f7bmb']}}],\n",
       " u'kind': u'youtube#videoListResponse',\n",
       " u'pageInfo': {u'resultsPerPage': 1, u'totalResults': 1}}"
      ]
     },
     "execution_count": 7,
     "metadata": {},
     "output_type": "execute_result"
    }
   ],
   "source": [
    "LichWickVideo = youtube.videos().list(part='snippet,topicDetails', id=video).execute()\n",
    "LichWickVideo"
   ]
  },
  {
   "cell_type": "markdown",
   "metadata": {},
   "source": [
    "We can see our topics down at the bottom of our JSON, those strings in the '/m/0xxxxxx' format. The JSON already has them structured into a list for easy use. So, we'll aggregate them into a new list that we can easily work with.\n",
    "\n",
    "We extract the 'topicIds' field first as it generally tends to contain the most relevant topic to the video, if any. Not all videos will have a 'topicIds' so our program will have to account for this. Every video has a list of 'relevantTopicIds', however. So we'll never walk away empty handed."
   ]
  },
  {
   "cell_type": "code",
   "execution_count": 8,
   "metadata": {
    "collapsed": false
   },
   "outputs": [
    {
     "name": "stdout",
     "output_type": "stream",
     "text": [
      "[u'/m/013f7bmb', u'/m/03bt1gh', u'/m/06zm8z', u'/m/0403l3g', u'/m/0dgs3gt', u'/m/025fwn', u'/m/01mw1', u'/m/0p8xwrr', u'/m/025zzc', u'/m/0bzvm2', u'/m/0403l3g', u'/m/025zzc', u'/m/06zm8z']\n"
     ]
    }
   ],
   "source": [
    "topics = LichWickVideo['items'][0]['topicDetails']['topicIds']\n",
    "topics.extend(LichWickVideo['items'][0]['topicDetails']['relevantTopicIds'])\n",
    "print topics"
   ]
  },
  {
   "cell_type": "markdown",
   "metadata": {},
   "source": [
    "If we construct a single list using our topics list over several videos, we can run a Counter over it to determine how frequently each topic occurs, which will be a big help in determining the current cosine similarity between two channels.\n",
    "\n",
    "For more information on cosine similarity, be sure to check out the cosine similarity report."
   ]
  },
  {
   "cell_type": "code",
   "execution_count": null,
   "metadata": {
    "collapsed": true
   },
   "outputs": [],
   "source": []
  }
 ],
 "metadata": {
  "kernelspec": {
   "display_name": "Python 2",
   "language": "python",
   "name": "python2"
  },
  "language_info": {
   "codemirror_mode": {
    "name": "ipython",
    "version": 2
   },
   "file_extension": ".py",
   "mimetype": "text/x-python",
   "name": "python",
   "nbconvert_exporter": "python",
   "pygments_lexer": "ipython2",
   "version": "2.7.11"
  }
 },
 "nbformat": 4,
 "nbformat_minor": 0
}
