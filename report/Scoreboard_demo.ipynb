{
 "cells": [
  {
   "cell_type": "markdown",
   "metadata": {},
   "source": [
    "# Scoreboard Class"
   ]
  },
  {
   "cell_type": "code",
   "execution_count": 1,
   "metadata": {
    "collapsed": true
   },
   "outputs": [],
   "source": [
    "import sys\n",
    "import numpy as np\n",
    "import pandas as pd\n",
    "from sklearn.metrics.pairwise import cosine_similarity\n",
    "\n",
    "sys.path.insert(0, '../YTCollab/src')\n",
    "\n",
    "import extract_data\n",
    "import scoreboard"
   ]
  },
  {
   "cell_type": "markdown",
   "metadata": {},
   "source": [
    "First, before we can actually utilize the class, we must have a DataFrame of channel data, and the data of an individual channel. For this demonstration, we'll use my own channel as the individual channel, and as my channel is of the Gaming category, we'll score it agains the Gaming data set that's been extracted previously."
   ]
  },
  {
   "cell_type": "code",
   "execution_count": 2,
   "metadata": {
    "collapsed": false
   },
   "outputs": [
    {
     "name": "stderr",
     "output_type": "stream",
     "text": [
      "../YTCollab/src/extract_data.py:227: SettingWithCopyWarning: \n",
      "A value is trying to be set on a copy of a slice from a DataFrame\n",
      "\n",
      "See the caveats in the documentation: http://pandas.pydata.org/pandas-docs/stable/indexing.html#indexing-view-versus-copy\n",
      "  df_new[topic][i] = count\n"
     ]
    }
   ],
   "source": [
    "lichwick = 'UCcx01rLXJ4dCtXqW3kPmBzg'\n",
    "\n",
    "df = pd.read_csv('../YTCollab/data/YTGaming_data.csv').drop('Unnamed: 0', axis=1)\n",
    "y = extract_data.get_specific_channel(lichwick)"
   ]
  },
  {
   "cell_type": "code",
   "execution_count": 3,
   "metadata": {
    "collapsed": false,
    "scrolled": false
   },
   "outputs": [
    {
     "data": {
      "text/html": [
       "<div>\n",
       "<table border=\"1\" class=\"dataframe\">\n",
       "  <thead>\n",
       "    <tr style=\"text-align: right;\">\n",
       "      <th></th>\n",
       "      <th>id</th>\n",
       "      <th>title</th>\n",
       "      <th>desc</th>\n",
       "      <th>country</th>\n",
       "      <th>banner</th>\n",
       "      <th>subs</th>\n",
       "      <th>videos</th>\n",
       "      <th>views</th>\n",
       "      <th>/m/01yjl</th>\n",
       "      <th>/m/02hrh1q</th>\n",
       "      <th>...</th>\n",
       "      <th>/m/057qgw</th>\n",
       "      <th>/m/06wfzt</th>\n",
       "      <th>/m/07f_7h</th>\n",
       "      <th>/m/012dwj48</th>\n",
       "      <th>/m/01ct6</th>\n",
       "      <th>/m/079m5l</th>\n",
       "      <th>/m/043mm3</th>\n",
       "      <th>/m/029l86</th>\n",
       "      <th>/m/04sv4</th>\n",
       "      <th>/m/02zw41</th>\n",
       "    </tr>\n",
       "  </thead>\n",
       "  <tbody>\n",
       "    <tr>\n",
       "      <th>0</th>\n",
       "      <td>UC0M0rxSz3IF0CsSour1iWmw</td>\n",
       "      <td>Cinemassacre</td>\n",
       "      <td>Cinemassacre Productions creates many differen...</td>\n",
       "      <td>n/a</td>\n",
       "      <td>https://yt3.ggpht.com/-eJAg-IPdtsQ/VfdBt5u90gI...</td>\n",
       "      <td>2029622</td>\n",
       "      <td>758</td>\n",
       "      <td>830331820</td>\n",
       "      <td>0</td>\n",
       "      <td>0</td>\n",
       "      <td>...</td>\n",
       "      <td>0</td>\n",
       "      <td>0</td>\n",
       "      <td>0</td>\n",
       "      <td>0</td>\n",
       "      <td>0</td>\n",
       "      <td>0</td>\n",
       "      <td>0</td>\n",
       "      <td>0</td>\n",
       "      <td>0</td>\n",
       "      <td>0</td>\n",
       "    </tr>\n",
       "    <tr>\n",
       "      <th>1</th>\n",
       "      <td>UCxaVOVnhmT0-HCUv72jtOTA</td>\n",
       "      <td>FaZe Rain</td>\n",
       "      <td>Welcome to my Channel!\\n\\nBe sure to connect w...</td>\n",
       "      <td>CA</td>\n",
       "      <td>https://yt3.ggpht.com/-TYWqsuLUMTM/VpgeFGfscOI...</td>\n",
       "      <td>3218809</td>\n",
       "      <td>1306</td>\n",
       "      <td>512123287</td>\n",
       "      <td>0</td>\n",
       "      <td>0</td>\n",
       "      <td>...</td>\n",
       "      <td>0</td>\n",
       "      <td>0</td>\n",
       "      <td>0</td>\n",
       "      <td>0</td>\n",
       "      <td>0</td>\n",
       "      <td>0</td>\n",
       "      <td>0</td>\n",
       "      <td>0</td>\n",
       "      <td>0</td>\n",
       "      <td>0</td>\n",
       "    </tr>\n",
       "    <tr>\n",
       "      <th>2</th>\n",
       "      <td>UCC-RHF_77zQdKcA75hr5oTQ</td>\n",
       "      <td>FGTeeV</td>\n",
       "      <td>CHANNEL DESCRIPTION\\nFGTeeV, the Family Gaming...</td>\n",
       "      <td>US</td>\n",
       "      <td>https://yt3.ggpht.com/-ajrs7jpr9w4/Vp-rVhuffVI...</td>\n",
       "      <td>1537023</td>\n",
       "      <td>890</td>\n",
       "      <td>1685682328</td>\n",
       "      <td>0</td>\n",
       "      <td>0</td>\n",
       "      <td>...</td>\n",
       "      <td>0</td>\n",
       "      <td>0</td>\n",
       "      <td>0</td>\n",
       "      <td>0</td>\n",
       "      <td>0</td>\n",
       "      <td>0</td>\n",
       "      <td>0</td>\n",
       "      <td>0</td>\n",
       "      <td>0</td>\n",
       "      <td>0</td>\n",
       "    </tr>\n",
       "    <tr>\n",
       "      <th>3</th>\n",
       "      <td>UCYVinkwSX7szARULgYpvhLw</td>\n",
       "      <td>Ali-A</td>\n",
       "      <td>Ali-A // Subscribe and join the #AliAarmy!\\n\\n...</td>\n",
       "      <td>GB</td>\n",
       "      <td>https://yt3.ggpht.com/-XHud3sgrMts/VuFT6ZtpmaI...</td>\n",
       "      <td>7985200</td>\n",
       "      <td>2117</td>\n",
       "      <td>1916404064</td>\n",
       "      <td>0</td>\n",
       "      <td>0</td>\n",
       "      <td>...</td>\n",
       "      <td>0</td>\n",
       "      <td>0</td>\n",
       "      <td>0</td>\n",
       "      <td>0</td>\n",
       "      <td>0</td>\n",
       "      <td>0</td>\n",
       "      <td>0</td>\n",
       "      <td>0</td>\n",
       "      <td>0</td>\n",
       "      <td>0</td>\n",
       "    </tr>\n",
       "    <tr>\n",
       "      <th>4</th>\n",
       "      <td>UCzYfz8uibvnB7Yc1LjePi4g</td>\n",
       "      <td>Aphmau</td>\n",
       "      <td>☆ Evening ladies and gents! Welcome to my Yout...</td>\n",
       "      <td>US</td>\n",
       "      <td>https://yt3.ggpht.com/-w87jwkRlZFI/U_gZFaAtNXI...</td>\n",
       "      <td>1655338</td>\n",
       "      <td>1836</td>\n",
       "      <td>591661288</td>\n",
       "      <td>0</td>\n",
       "      <td>0</td>\n",
       "      <td>...</td>\n",
       "      <td>0</td>\n",
       "      <td>0</td>\n",
       "      <td>0</td>\n",
       "      <td>0</td>\n",
       "      <td>0</td>\n",
       "      <td>0</td>\n",
       "      <td>0</td>\n",
       "      <td>0</td>\n",
       "      <td>0</td>\n",
       "      <td>0</td>\n",
       "    </tr>\n",
       "  </tbody>\n",
       "</table>\n",
       "<p>5 rows × 7276 columns</p>\n",
       "</div>"
      ],
      "text/plain": [
       "                         id         title  \\\n",
       "0  UC0M0rxSz3IF0CsSour1iWmw  Cinemassacre   \n",
       "1  UCxaVOVnhmT0-HCUv72jtOTA     FaZe Rain   \n",
       "2  UCC-RHF_77zQdKcA75hr5oTQ        FGTeeV   \n",
       "3  UCYVinkwSX7szARULgYpvhLw         Ali-A   \n",
       "4  UCzYfz8uibvnB7Yc1LjePi4g        Aphmau   \n",
       "\n",
       "                                                desc country  \\\n",
       "0  Cinemassacre Productions creates many differen...     n/a   \n",
       "1  Welcome to my Channel!\\n\\nBe sure to connect w...      CA   \n",
       "2  CHANNEL DESCRIPTION\\nFGTeeV, the Family Gaming...      US   \n",
       "3  Ali-A // Subscribe and join the #AliAarmy!\\n\\n...      GB   \n",
       "4  ☆ Evening ladies and gents! Welcome to my Yout...      US   \n",
       "\n",
       "                                              banner     subs  videos  \\\n",
       "0  https://yt3.ggpht.com/-eJAg-IPdtsQ/VfdBt5u90gI...  2029622     758   \n",
       "1  https://yt3.ggpht.com/-TYWqsuLUMTM/VpgeFGfscOI...  3218809    1306   \n",
       "2  https://yt3.ggpht.com/-ajrs7jpr9w4/Vp-rVhuffVI...  1537023     890   \n",
       "3  https://yt3.ggpht.com/-XHud3sgrMts/VuFT6ZtpmaI...  7985200    2117   \n",
       "4  https://yt3.ggpht.com/-w87jwkRlZFI/U_gZFaAtNXI...  1655338    1836   \n",
       "\n",
       "        views  /m/01yjl  /m/02hrh1q    ...      /m/057qgw  /m/06wfzt  \\\n",
       "0   830331820         0           0    ...              0          0   \n",
       "1   512123287         0           0    ...              0          0   \n",
       "2  1685682328         0           0    ...              0          0   \n",
       "3  1916404064         0           0    ...              0          0   \n",
       "4   591661288         0           0    ...              0          0   \n",
       "\n",
       "   /m/07f_7h  /m/012dwj48  /m/01ct6  /m/079m5l  /m/043mm3  /m/029l86  \\\n",
       "0          0            0         0          0          0          0   \n",
       "1          0            0         0          0          0          0   \n",
       "2          0            0         0          0          0          0   \n",
       "3          0            0         0          0          0          0   \n",
       "4          0            0         0          0          0          0   \n",
       "\n",
       "   /m/04sv4  /m/02zw41  \n",
       "0         0          0  \n",
       "1         0          0  \n",
       "2         0          0  \n",
       "3         0          0  \n",
       "4         0          0  \n",
       "\n",
       "[5 rows x 7276 columns]"
      ]
     },
     "execution_count": 3,
     "metadata": {},
     "output_type": "execute_result"
    }
   ],
   "source": [
    "df.head()"
   ]
  },
  {
   "cell_type": "code",
   "execution_count": 4,
   "metadata": {
    "collapsed": false
   },
   "outputs": [
    {
     "data": {
      "text/html": [
       "<div>\n",
       "<table border=\"1\" class=\"dataframe\">\n",
       "  <thead>\n",
       "    <tr style=\"text-align: right;\">\n",
       "      <th></th>\n",
       "      <th>id</th>\n",
       "      <th>title</th>\n",
       "      <th>desc</th>\n",
       "      <th>country</th>\n",
       "      <th>banner</th>\n",
       "      <th>subs</th>\n",
       "      <th>videos</th>\n",
       "      <th>views</th>\n",
       "      <th>/m/09g9srb</th>\n",
       "      <th>/m/013f7bmb</th>\n",
       "      <th>...</th>\n",
       "      <th>/m/0282f</th>\n",
       "      <th>/m/06zm8z</th>\n",
       "      <th>/m/02x9hs</th>\n",
       "      <th>/m/0403l3g</th>\n",
       "      <th>/m/0y7v_dk</th>\n",
       "      <th>/m/03qh21m</th>\n",
       "      <th>/m/03bt1gh</th>\n",
       "      <th>/m/0y6cg_2</th>\n",
       "      <th>/m/0p8xwrr</th>\n",
       "      <th>/m/0215n</th>\n",
       "    </tr>\n",
       "  </thead>\n",
       "  <tbody>\n",
       "    <tr>\n",
       "      <th>0</th>\n",
       "      <td>UCcx01rLXJ4dCtXqW3kPmBzg</td>\n",
       "      <td>LichWick</td>\n",
       "      <td>Hello, I'm LichWick. I like playing games and ...</td>\n",
       "      <td>US</td>\n",
       "      <td>https://yt3.ggpht.com/-jLrCPhtaQT8/VWD27D3emBI...</td>\n",
       "      <td>64</td>\n",
       "      <td>187</td>\n",
       "      <td>5057</td>\n",
       "      <td>2</td>\n",
       "      <td>2</td>\n",
       "      <td>...</td>\n",
       "      <td>2</td>\n",
       "      <td>7</td>\n",
       "      <td>2</td>\n",
       "      <td>15</td>\n",
       "      <td>2</td>\n",
       "      <td>2</td>\n",
       "      <td>26</td>\n",
       "      <td>9</td>\n",
       "      <td>2</td>\n",
       "      <td>2</td>\n",
       "    </tr>\n",
       "  </tbody>\n",
       "</table>\n",
       "<p>1 rows × 28 columns</p>\n",
       "</div>"
      ],
      "text/plain": [
       "                         id     title  \\\n",
       "0  UCcx01rLXJ4dCtXqW3kPmBzg  LichWick   \n",
       "\n",
       "                                                desc country  \\\n",
       "0  Hello, I'm LichWick. I like playing games and ...      US   \n",
       "\n",
       "                                              banner  subs  videos  views  \\\n",
       "0  https://yt3.ggpht.com/-jLrCPhtaQT8/VWD27D3emBI...    64     187   5057   \n",
       "\n",
       "   /m/09g9srb  /m/013f7bmb    ...     /m/0282f  /m/06zm8z  /m/02x9hs  \\\n",
       "0           2            2    ...            2          7          2   \n",
       "\n",
       "   /m/0403l3g  /m/0y7v_dk  /m/03qh21m  /m/03bt1gh  /m/0y6cg_2  /m/0p8xwrr  \\\n",
       "0          15           2           2          26           9           2   \n",
       "\n",
       "   /m/0215n  \n",
       "0         2  \n",
       "\n",
       "[1 rows x 28 columns]"
      ]
     },
     "execution_count": 4,
     "metadata": {},
     "output_type": "execute_result"
    }
   ],
   "source": [
    "y"
   ]
  },
  {
   "cell_type": "markdown",
   "metadata": {},
   "source": [
    "Note that our data set contains 7276 features while our individual channel only contains 28. As long as the two DataFrames follow a specific structure, the Scoreboard accounts for this difference of features. Luckily, the extract_data module will always output DataFrames in the format the Scoreboard works from so we don't need to worry about this as long as we're using data pulled with an extract_data function."
   ]
  },
  {
   "cell_type": "markdown",
   "metadata": {},
   "source": [
    "Scoreboard has a similar initialization style as most models available in sklearn. The object can be created, and then fitted with our data. The large data set must be specified first, and our individual data second. From there, Scoreboard scales and organizes the data, scoring it by cosine_similarity and ordering it by similarity score from highest to lowest.\n",
    "\n",
    "The output is optimized for web integration with flask, but we can still retrieve what we need from the results. The ouput is a list of dictionaries, each with a title entry specifying the name of the channel in that position."
   ]
  },
  {
   "cell_type": "code",
   "execution_count": 5,
   "metadata": {
    "collapsed": false
   },
   "outputs": [
    {
     "name": "stderr",
     "output_type": "stream",
     "text": [
      "/home/alex/anaconda2/lib/python2.7/site-packages/pandas-0.17.1-py2.7-linux-x86_64.egg/pandas/core/ops.py:648: UnicodeWarning: Unicode equal comparison failed to convert both arguments to Unicode - interpreting them as being unequal\n",
      "  result = lib.scalar_compare(x, y, op)\n"
     ]
    },
    {
     "data": {
      "text/plain": [
       "['BedBananas',\n",
       " \"Gamer's Little Playground\",\n",
       " 'Sips',\n",
       " 'Lobos Jr',\n",
       " 'bisnap',\n",
       " 'SplatterCatGaming',\n",
       " 'DidYouKnowGaming?',\n",
       " 'RaedwulfGamer',\n",
       " 'SLEEPCYCLES',\n",
       " 'Northernlion']"
      ]
     },
     "execution_count": 5,
     "metadata": {},
     "output_type": "execute_result"
    }
   ],
   "source": [
    "sim = scoreboard.Scoreboard()\n",
    "sim.fit(df,y)\n",
    "results = sim.most_similar()\n",
    "result_titles = [channel['title'] for channel in results]\n",
    "result_titles"
   ]
  },
  {
   "cell_type": "markdown",
   "metadata": {},
   "source": [
    "So, for my channel, the top 3 channels (ie: the 3 most similar channels) are BedBananas, Gamer's Little Playground, and Sips, in that order. By default, Scoreboards most_similar function returns the top 10 results, but the placements the user cares about can be specified. For instance, if one said most_similar(5), they would receive the top 5 results instead of the top 10. Alternatively, most_similar(10,20) would return the results that ranked from 10 to 20, maintaining their order in terms of score.\n",
    "\n",
    "The web interface integrating the Scoreboard class requests most_similar(25), for example."
   ]
  }
 ],
 "metadata": {
  "kernelspec": {
   "display_name": "Python 2",
   "language": "python",
   "name": "python2"
  },
  "language_info": {
   "codemirror_mode": {
    "name": "ipython",
    "version": 2
   },
   "file_extension": ".py",
   "mimetype": "text/x-python",
   "name": "python",
   "nbconvert_exporter": "python",
   "pygments_lexer": "ipython2",
   "version": "2.7.11"
  }
 },
 "nbformat": 4,
 "nbformat_minor": 0
}
