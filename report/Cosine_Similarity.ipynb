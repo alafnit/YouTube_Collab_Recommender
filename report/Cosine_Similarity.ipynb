{
 "cells": [
  {
   "cell_type": "markdown",
   "metadata": {},
   "source": [
    "# Cosine Similarity"
   ]
  },
  {
   "cell_type": "code",
   "execution_count": 1,
   "metadata": {
    "collapsed": false
   },
   "outputs": [],
   "source": [
    "import numpy as np\n",
    "from sklearn.metrics.pairwise import cosine_similarity\n",
    "from sklearn.preprocessing import StandardScaler"
   ]
  },
  {
   "cell_type": "markdown",
   "metadata": {},
   "source": [
    "Cosine Similarity is cosine of the angle formed between two vectors, calculated as such:\n",
    "\n",
    "$$cos(\\theta) = \\frac{A \\cdotp B}{\\|A\\|\\|B\\|}$$\n",
    "\n",
    "Within the context of this project, cosine similarity is the primary means of determining similarity between two channels, or, more accurately, one and several channels. It offers a high speed calculation with satisfactory results and provides a viable substitution for more computationally intense algorithms such as Alternating Least Squares and Stochastic Gradient Descent. GraphLab has optimized these methods but the data does not take the form of user-item relationship, nor can it expediently convert the data into a structured frame fast enough to not detract from the user experience. As such, cosine similarity seemed the best and most implementable method given a two week time frame."
   ]
  },
  {
   "cell_type": "markdown",
   "metadata": {},
   "source": [
    "Let's try it out on some dummy data."
   ]
  },
  {
   "cell_type": "code",
   "execution_count": 2,
   "metadata": {
    "collapsed": true
   },
   "outputs": [],
   "source": [
    "n = np.array([[1,1,1],[1,0,0],[1,0,1],[0,1,1]])\n",
    "m = np.array([[0,1,1]])"
   ]
  },
  {
   "cell_type": "code",
   "execution_count": 3,
   "metadata": {
    "collapsed": false
   },
   "outputs": [
    {
     "data": {
      "text/plain": [
       "array([[ 0.81649658],\n",
       "       [ 0.        ],\n",
       "       [ 0.5       ],\n",
       "       [ 1.        ]])"
      ]
     },
     "execution_count": 3,
     "metadata": {},
     "output_type": "execute_result"
    }
   ],
   "source": [
    "cosine_similarity(n,m)"
   ]
  },
  {
   "cell_type": "markdown",
   "metadata": {},
   "source": [
    "As we can see, the vectors in n that resemble m the most end up scoring higher on their similarity score. Note that the cosine of 0 is 1, so we can immediately deduce that a perfect score occurs when two vectors point in precisely the same direction. Similarly, we get a similarity of 0 if the vectors are perpendicular (90 degree angle) and -1 if they point in the exact opposite directions (180 degrees).\n",
    "\n",
    "However, to utilize cosine similarity properly in a recomendation engine, we need to place our locus on our data's center of mass. In other words, we must scale our data set, so let's do that now and see how our results change."
   ]
  },
  {
   "cell_type": "code",
   "execution_count": 4,
   "metadata": {
    "collapsed": false
   },
   "outputs": [
    {
     "name": "stderr",
     "output_type": "stream",
     "text": [
      "/home/alex/anaconda2/lib/python2.7/site-packages/sklearn/utils/validation.py:420: DataConversionWarning: Data with input dtype int64 was converted to float64 by StandardScaler.\n",
      "  warnings.warn(msg, DataConversionWarning)\n",
      "/home/alex/anaconda2/lib/python2.7/site-packages/sklearn/utils/validation.py:420: DataConversionWarning: Data with input dtype int64 was converted to float64 by StandardScaler.\n",
      "  warnings.warn(msg, DataConversionWarning)\n",
      "/home/alex/anaconda2/lib/python2.7/site-packages/sklearn/utils/validation.py:420: DataConversionWarning: Data with input dtype int64 was converted to float64 by StandardScaler.\n",
      "  warnings.warn(msg, DataConversionWarning)\n"
     ]
    },
    {
     "data": {
      "text/plain": [
       "array([[ 0.12403473],\n",
       "       [-0.69230769],\n",
       "       [-0.62017367],\n",
       "       [ 1.        ]])"
      ]
     },
     "execution_count": 4,
     "metadata": {},
     "output_type": "execute_result"
    }
   ],
   "source": [
    "scale = StandardScaler()\n",
    "scaled_n = scale.fit_transform(n)\n",
    "scaled_m = scale.transform(m)\n",
    "\n",
    "cosine_similarity(scaled_n,scaled_m)"
   ]
  },
  {
   "cell_type": "markdown",
   "metadata": {},
   "source": [
    "As we can see, while the placement of our results hasn't changed, the values by which they are ranked have very much so. The only score that hasn't changed is that of our perfect match, thanks to the fact that the two vectors were the exact same to begin with. Note that score order will not always remain the same after scaling. We just happen to have a special case."
   ]
  },
  {
   "cell_type": "markdown",
   "metadata": {},
   "source": [
    "Within the context of the project, each score is the similarity between one channel and another, where one channel is being scored against multiple. So, each vector has a name, the name of the channel being scored against. If the vectors are ranked on their similarity scores, we'd also return the name of the channel so the user understands who is most similar."
   ]
  }
 ],
 "metadata": {
  "kernelspec": {
   "display_name": "Python 2",
   "language": "python",
   "name": "python2"
  },
  "language_info": {
   "codemirror_mode": {
    "name": "ipython",
    "version": 2
   },
   "file_extension": ".py",
   "mimetype": "text/x-python",
   "name": "python",
   "nbconvert_exporter": "python",
   "pygments_lexer": "ipython2",
   "version": "2.7.11"
  }
 },
 "nbformat": 4,
 "nbformat_minor": 0
}
