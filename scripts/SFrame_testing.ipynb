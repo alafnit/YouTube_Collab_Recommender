{
 "cells": [
  {
   "cell_type": "code",
   "execution_count": null,
   "metadata": {
    "collapsed": true
   },
   "outputs": [],
   "source": [
    "'''from graphlab import SFrame\n",
    "from graph'''"
   ]
  },
  {
   "cell_type": "code",
   "execution_count": 84,
   "metadata": {
    "collapsed": false
   },
   "outputs": [],
   "source": [
    "from sklearn.metrics.pairwise import cosine_similarity"
   ]
  },
  {
   "cell_type": "code",
   "execution_count": 85,
   "metadata": {
    "collapsed": false
   },
   "outputs": [],
   "source": [
    "df = pd.read_csv('../YTCollab/data/YTGaming_base.csv').drop('Unnamed: 0', axis=1)"
   ]
  },
  {
   "cell_type": "code",
   "execution_count": 7,
   "metadata": {
    "collapsed": false
   },
   "outputs": [
    {
     "name": "stderr",
     "output_type": "stream",
     "text": [
      "2016-04-11 11:18:32,769 [INFO] graphlab.cython.cy_server, 176: GraphLab Create v1.8.4 started. Logging: /tmp/graphlab_server_1460398711.log\n"
     ]
    },
    {
     "name": "stdout",
     "output_type": "stream",
     "text": [
      "This trial license of GraphLab Create is assigned to alafnit@comcast.net and will expire on April 16, 2016. Please contact trial@dato.com for licensing options or to request a free non-commercial license for personal or academic use.\n"
     ]
    }
   ],
   "source": [
    "import os\n",
    "from apiclient.discovery import build\n",
    "\n",
    "DEVELOPER_KEY = os.environ[\"COLLAB_CLIENT_KEY\"]\n",
    "YOUTUBE_API_SERVICE_NAME = \"youtube\"\n",
    "YOUTUBE_API_VERSION = \"v3\"\n",
    "\n",
    "youtube = build(YOUTUBE_API_SERVICE_NAME, YOUTUBE_API_VERSION, developerKey=DEVELOPER_KEY)"
   ]
  },
  {
   "cell_type": "code",
   "execution_count": 77,
   "metadata": {
    "collapsed": true
   },
   "outputs": [],
   "source": [
    "sections = \"snippet,statistics,topicDetails\"\n",
    "\n",
    "results = youtube.channels().list(part=sections, id=\"UC9CuvdOVfMPvKCiwdGKL3cQ\", maxResults=50).execute()"
   ]
  },
  {
   "cell_type": "code",
   "execution_count": 78,
   "metadata": {
    "collapsed": false
   },
   "outputs": [],
   "source": [
    "title = []\n",
    "country = []\n",
    "subs = []\n",
    "videos = []\n",
    "views = []\n",
    "topics = []\n",
    "\n",
    "for channel in results[\"items\"]:\n",
    "    title.append(channel[\"snippet\"][\"title\"])\n",
    "    try:\n",
    "        country.append(channel[\"snippet\"][\"country\"])\n",
    "    except:\n",
    "        country.append('n/a')\n",
    "    subs.append(int(channel[\"statistics\"][\"subscriberCount\"]))\n",
    "    videos.append(int(channel[\"statistics\"][\"videoCount\"]))\n",
    "    views.append(int(channel[\"statistics\"][\"viewCount\"]))\n",
    "    try:\n",
    "        topics.append(channel[\"topicDetails\"][\"topicIds\"])\n",
    "    except:\n",
    "        topics.append([])\n",
    "\n",
    "d = {'title':title, 'country':country, 'subs':subs, 'videos':videos, 'views':views, 'topics':topics}    \n",
    "y = pd.DataFrame(d, columns=['title','country','subs','videos','views','topics'])"
   ]
  },
  {
   "cell_type": "code",
   "execution_count": 79,
   "metadata": {
    "collapsed": false
   },
   "outputs": [
    {
     "name": "stderr",
     "output_type": "stream",
     "text": [
      "/home/alex/anaconda2/lib/python2.7/site-packages/ipykernel/__main__.py:5: SettingWithCopyWarning: \n",
      "A value is trying to be set on a copy of a slice from a DataFrame\n",
      "\n",
      "See the caveats in the documentation: http://pandas.pydata.org/pandas-docs/stable/indexing.html#indexing-view-versus-copy\n"
     ]
    }
   ],
   "source": [
    "for col in df.columns[6:]:\n",
    "    y[col] = 0\n",
    "for i, topics in enumerate(y['topics']):\n",
    "    for topic in topics:\n",
    "        y[topic][i] = 1"
   ]
  },
  {
   "cell_type": "code",
   "execution_count": 90,
   "metadata": {
    "collapsed": false
   },
   "outputs": [],
   "source": [
    "df = pd.read_csv('../YTCollab/data/YTGaming_base.csv').drop('Unnamed: 0', axis=1)"
   ]
  },
  {
   "cell_type": "code",
   "execution_count": 91,
   "metadata": {
    "collapsed": false
   },
   "outputs": [
    {
     "ename": "ValueError",
     "evalue": "Incompatible dimension for X and Y matrices: X.shape[1] == 7190 while Y.shape[1] == 529",
     "output_type": "error",
     "traceback": [
      "\u001b[1;31m---------------------------------------------------------------------------\u001b[0m",
      "\u001b[1;31mValueError\u001b[0m                                Traceback (most recent call last)",
      "\u001b[1;32m<ipython-input-91-fe2de169b879>\u001b[0m in \u001b[0;36m<module>\u001b[1;34m()\u001b[0m\n\u001b[0;32m      1\u001b[0m \u001b[1;31m#df.drop(np.where(df['title'] == \"Jesse Cox\")[0][0])\u001b[0m\u001b[1;33m\u001b[0m\u001b[1;33m\u001b[0m\u001b[0m\n\u001b[0;32m      2\u001b[0m \u001b[1;33m\u001b[0m\u001b[0m\n\u001b[1;32m----> 3\u001b[1;33m \u001b[0mnp\u001b[0m\u001b[1;33m.\u001b[0m\u001b[0margsort\u001b[0m\u001b[1;33m(\u001b[0m\u001b[0mcosine_similarity\u001b[0m\u001b[1;33m(\u001b[0m\u001b[0mdf\u001b[0m\u001b[1;33m.\u001b[0m\u001b[0mdrop\u001b[0m\u001b[1;33m(\u001b[0m\u001b[0mnp\u001b[0m\u001b[1;33m.\u001b[0m\u001b[0mwhere\u001b[0m\u001b[1;33m(\u001b[0m\u001b[0mdf\u001b[0m\u001b[1;33m[\u001b[0m\u001b[1;34m'title'\u001b[0m\u001b[1;33m]\u001b[0m \u001b[1;33m==\u001b[0m \u001b[1;34m\"GameGrumps\"\u001b[0m\u001b[1;33m)\u001b[0m\u001b[1;33m[\u001b[0m\u001b[1;36m0\u001b[0m\u001b[1;33m]\u001b[0m\u001b[1;33m[\u001b[0m\u001b[1;36m0\u001b[0m\u001b[1;33m]\u001b[0m\u001b[1;33m)\u001b[0m\u001b[1;33m.\u001b[0m\u001b[0mdrop\u001b[0m\u001b[1;33m(\u001b[0m\u001b[1;33m[\u001b[0m\u001b[1;34m'title'\u001b[0m\u001b[1;33m,\u001b[0m\u001b[1;34m'country'\u001b[0m\u001b[1;33m]\u001b[0m\u001b[1;33m,\u001b[0m \u001b[0maxis\u001b[0m\u001b[1;33m=\u001b[0m\u001b[1;36m1\u001b[0m\u001b[1;33m)\u001b[0m\u001b[1;33m,\u001b[0m \u001b[0my\u001b[0m\u001b[1;33m.\u001b[0m\u001b[0mdrop\u001b[0m\u001b[1;33m(\u001b[0m\u001b[1;33m[\u001b[0m\u001b[1;34m'title'\u001b[0m\u001b[1;33m,\u001b[0m\u001b[1;34m'country'\u001b[0m\u001b[1;33m,\u001b[0m\u001b[1;34m'topics'\u001b[0m\u001b[1;33m]\u001b[0m\u001b[1;33m,\u001b[0m \u001b[0maxis\u001b[0m\u001b[1;33m=\u001b[0m\u001b[1;36m1\u001b[0m\u001b[1;33m)\u001b[0m\u001b[1;33m)\u001b[0m\u001b[1;33m.\u001b[0m\u001b[0mT\u001b[0m\u001b[1;33m)\u001b[0m\u001b[1;33m[\u001b[0m\u001b[1;36m0\u001b[0m\u001b[1;33m]\u001b[0m\u001b[1;33m[\u001b[0m\u001b[1;33m:\u001b[0m\u001b[1;33m:\u001b[0m\u001b[1;33m-\u001b[0m\u001b[1;36m1\u001b[0m\u001b[1;33m]\u001b[0m\u001b[1;33m[\u001b[0m\u001b[1;33m:\u001b[0m\u001b[1;36m10\u001b[0m\u001b[1;33m]\u001b[0m\u001b[1;33m\u001b[0m\u001b[0m\n\u001b[0m",
      "\u001b[1;32m/home/alex/anaconda2/lib/python2.7/site-packages/sklearn/metrics/pairwise.pyc\u001b[0m in \u001b[0;36mcosine_similarity\u001b[1;34m(X, Y, dense_output)\u001b[0m\n\u001b[0;32m    879\u001b[0m     \u001b[1;31m# to avoid recursive import\u001b[0m\u001b[1;33m\u001b[0m\u001b[1;33m\u001b[0m\u001b[0m\n\u001b[0;32m    880\u001b[0m \u001b[1;33m\u001b[0m\u001b[0m\n\u001b[1;32m--> 881\u001b[1;33m     \u001b[0mX\u001b[0m\u001b[1;33m,\u001b[0m \u001b[0mY\u001b[0m \u001b[1;33m=\u001b[0m \u001b[0mcheck_pairwise_arrays\u001b[0m\u001b[1;33m(\u001b[0m\u001b[0mX\u001b[0m\u001b[1;33m,\u001b[0m \u001b[0mY\u001b[0m\u001b[1;33m)\u001b[0m\u001b[1;33m\u001b[0m\u001b[0m\n\u001b[0m\u001b[0;32m    882\u001b[0m \u001b[1;33m\u001b[0m\u001b[0m\n\u001b[0;32m    883\u001b[0m     \u001b[0mX_normalized\u001b[0m \u001b[1;33m=\u001b[0m \u001b[0mnormalize\u001b[0m\u001b[1;33m(\u001b[0m\u001b[0mX\u001b[0m\u001b[1;33m,\u001b[0m \u001b[0mcopy\u001b[0m\u001b[1;33m=\u001b[0m\u001b[0mTrue\u001b[0m\u001b[1;33m)\u001b[0m\u001b[1;33m\u001b[0m\u001b[0m\n",
      "\u001b[1;32m/home/alex/anaconda2/lib/python2.7/site-packages/sklearn/metrics/pairwise.pyc\u001b[0m in \u001b[0;36mcheck_pairwise_arrays\u001b[1;34m(X, Y, precomputed)\u001b[0m\n\u001b[0;32m    106\u001b[0m         raise ValueError(\"Incompatible dimension for X and Y matrices: \"\n\u001b[0;32m    107\u001b[0m                          \"X.shape[1] == %d while Y.shape[1] == %d\" % (\n\u001b[1;32m--> 108\u001b[1;33m                              X.shape[1], Y.shape[1]))\n\u001b[0m\u001b[0;32m    109\u001b[0m \u001b[1;33m\u001b[0m\u001b[0m\n\u001b[0;32m    110\u001b[0m     \u001b[1;32mreturn\u001b[0m \u001b[0mX\u001b[0m\u001b[1;33m,\u001b[0m \u001b[0mY\u001b[0m\u001b[1;33m\u001b[0m\u001b[0m\n",
      "\u001b[1;31mValueError\u001b[0m: Incompatible dimension for X and Y matrices: X.shape[1] == 7190 while Y.shape[1] == 529"
     ]
    }
   ],
   "source": [
    "#df.drop(np.where(df['title'] == \"Jesse Cox\")[0][0])\n",
    "\n",
    "np.argsort(cosine_similarity(df.drop(np.where(df['title'] == \"GameGrumps\")[0][0]).drop(['title','country'], axis=1), y.drop(['title','country','topics'], axis=1)).T)[0][::-1][:10]"
   ]
  },
  {
   "cell_type": "code",
   "execution_count": 81,
   "metadata": {
    "collapsed": false
   },
   "outputs": [
    {
     "name": "stdout",
     "output_type": "stream",
     "text": [
      "joshscorcher\n",
      "Jerma985\n",
      "Protoscope\n",
      "Box Box\n",
      "Gaming Wildlife\n"
     ]
    }
   ],
   "source": [
    "print df['title'][935]\n",
    "print df['title'][383]\n",
    "print df['title'][1280]\n",
    "print df['title'][854]\n",
    "print df['title'][866]"
   ]
  },
  {
   "cell_type": "code",
   "execution_count": 94,
   "metadata": {
    "collapsed": false
   },
   "outputs": [
    {
     "data": {
      "text/html": [
       "<div>\n",
       "<table border=\"1\" class=\"dataframe\">\n",
       "  <thead>\n",
       "    <tr style=\"text-align: right;\">\n",
       "      <th></th>\n",
       "      <th>title</th>\n",
       "      <th>country</th>\n",
       "      <th>subs</th>\n",
       "      <th>videos</th>\n",
       "      <th>views</th>\n",
       "      <th>topics</th>\n",
       "      <th>/m/01tn_k</th>\n",
       "      <th>/m/02cphr</th>\n",
       "      <th>/m/0gyv1hg</th>\n",
       "      <th>/m/07d5v</th>\n",
       "      <th>...</th>\n",
       "      <th>/m/02qt1kl</th>\n",
       "      <th>/m/01jshl</th>\n",
       "      <th>/m/06zmzsz</th>\n",
       "      <th>/m/0kz2x1z</th>\n",
       "      <th>/m/070vn</th>\n",
       "      <th>/m/010fcjp9</th>\n",
       "      <th>/m/04058p</th>\n",
       "      <th>/m/0bpsmq</th>\n",
       "      <th>/m/0ltv</th>\n",
       "      <th>/m/0134tlps</th>\n",
       "    </tr>\n",
       "  </thead>\n",
       "  <tbody>\n",
       "    <tr>\n",
       "      <th>0</th>\n",
       "      <td>GameGrumps</td>\n",
       "      <td>n/a</td>\n",
       "      <td>3193193</td>\n",
       "      <td>3910</td>\n",
       "      <td>2113827023</td>\n",
       "      <td>[/m/0w6tdpj, /m/01mw1, /m/03bt1gh, /m/0bzvm2]</td>\n",
       "      <td>0</td>\n",
       "      <td>0</td>\n",
       "      <td>0</td>\n",
       "      <td>0</td>\n",
       "      <td>...</td>\n",
       "      <td>0</td>\n",
       "      <td>0</td>\n",
       "      <td>0</td>\n",
       "      <td>0</td>\n",
       "      <td>0</td>\n",
       "      <td>0</td>\n",
       "      <td>0</td>\n",
       "      <td>0</td>\n",
       "      <td>0</td>\n",
       "      <td>0</td>\n",
       "    </tr>\n",
       "  </tbody>\n",
       "</table>\n",
       "<p>1 rows × 532 columns</p>\n",
       "</div>"
      ],
      "text/plain": [
       "        title country     subs  videos       views  \\\n",
       "0  GameGrumps     n/a  3193193    3910  2113827023   \n",
       "\n",
       "                                          topics  /m/01tn_k  /m/02cphr  \\\n",
       "0  [/m/0w6tdpj, /m/01mw1, /m/03bt1gh, /m/0bzvm2]          0          0   \n",
       "\n",
       "   /m/0gyv1hg  /m/07d5v     ...       /m/02qt1kl  /m/01jshl  /m/06zmzsz  \\\n",
       "0           0         0     ...                0          0           0   \n",
       "\n",
       "   /m/0kz2x1z  /m/070vn  /m/010fcjp9  /m/04058p  /m/0bpsmq  /m/0ltv  \\\n",
       "0           0         0            0          0          0        0   \n",
       "\n",
       "   /m/0134tlps  \n",
       "0            0  \n",
       "\n",
       "[1 rows x 532 columns]"
      ]
     },
     "execution_count": 94,
     "metadata": {},
     "output_type": "execute_result"
    }
   ],
   "source": []
  },
  {
   "cell_type": "code",
   "execution_count": 110,
   "metadata": {
    "collapsed": false
   },
   "outputs": [
    {
     "data": {
      "text/plain": [
       "array([['a', 'c', 'd'],\n",
       "       ['b', 'd', 'e'],\n",
       "       ['c', 'e', 'f'],\n",
       "       ['d', 'f', 'g']], \n",
       "      dtype='|S1')"
      ]
     },
     "execution_count": 110,
     "metadata": {},
     "output_type": "execute_result"
    }
   ],
   "source": [
    "n = np.array([['a','b','c','d'],['b','c','d','e'],['c','d','e','f'],['d','e','f','g']])\n",
    "np.delete(n, 1, 1)"
   ]
  },
  {
   "cell_type": "code",
   "execution_count": null,
   "metadata": {
    "collapsed": true
   },
   "outputs": [],
   "source": []
  }
 ],
 "metadata": {
  "kernelspec": {
   "display_name": "Python 2",
   "language": "python",
   "name": "python2"
  },
  "language_info": {
   "codemirror_mode": {
    "name": "ipython",
    "version": 2
   },
   "file_extension": ".py",
   "mimetype": "text/x-python",
   "name": "python",
   "nbconvert_exporter": "python",
   "pygments_lexer": "ipython2",
   "version": "2.7.11"
  }
 },
 "nbformat": 4,
 "nbformat_minor": 0
}
