{
 "cells": [
  {
   "cell_type": "code",
   "execution_count": 1,
   "metadata": {
    "collapsed": true
   },
   "outputs": [],
   "source": [
    "import sys\n",
    "sys.path.insert(0, '../YTCollab/src/')\n",
    "\n",
    "import extract_data"
   ]
  },
  {
   "cell_type": "code",
   "execution_count": 2,
   "metadata": {
    "collapsed": false
   },
   "outputs": [
    {
     "name": "stdout",
     "output_type": "stream",
     "text": [
      "1.27595686913\n"
     ]
    },
    {
     "name": "stderr",
     "output_type": "stream",
     "text": [
      "../YTCollab/src/extract_data.py:232: SettingWithCopyWarning: \n",
      "A value is trying to be set on a copy of a slice from a DataFrame\n",
      "\n",
      "See the caveats in the documentation: http://pandas.pydata.org/pandas-docs/stable/indexing.html#indexing-view-versus-copy\n",
      "  df_new[topic][i] = count\n"
     ]
    }
   ],
   "source": [
    "y = extract_data.get_specific_channel('UC9CuvdOVfMPvKCiwdGKL3cQ')\n",
    "df = pd.read_csv('../YTCollab/data/YTGaming_base.csv').drop('Unnamed: 0', axis=1)"
   ]
  },
  {
   "cell_type": "code",
   "execution_count": 3,
   "metadata": {
    "collapsed": false
   },
   "outputs": [
    {
     "data": {
      "text/html": [
       "<div>\n",
       "<table border=\"1\" class=\"dataframe\">\n",
       "  <thead>\n",
       "    <tr style=\"text-align: right;\">\n",
       "      <th></th>\n",
       "      <th>title</th>\n",
       "      <th>desc</th>\n",
       "      <th>country</th>\n",
       "      <th>banner</th>\n",
       "      <th>subs</th>\n",
       "      <th>videos</th>\n",
       "      <th>views</th>\n",
       "      <th>/m/0g65_</th>\n",
       "      <th>/m/07yv9</th>\n",
       "      <th>/m/01mw1</th>\n",
       "      <th>...</th>\n",
       "      <th>/m/013f7bmb</th>\n",
       "      <th>/m/01bz5k</th>\n",
       "      <th>/m/03h8_g</th>\n",
       "      <th>/m/0215n</th>\n",
       "      <th>/m/0hcr</th>\n",
       "      <th>/m/0jt_x</th>\n",
       "      <th>/m/095bb</th>\n",
       "      <th>/m/05h5m</th>\n",
       "      <th>/m/085jw</th>\n",
       "      <th>/m/010xc8lh</th>\n",
       "    </tr>\n",
       "  </thead>\n",
       "  <tbody>\n",
       "    <tr>\n",
       "      <th>0</th>\n",
       "      <td>GameGrumps</td>\n",
       "      <td>Game Grumps: Dan and Arin playin' games. Alway...</td>\n",
       "      <td>n/a</td>\n",
       "      <td>https://yt3.ggpht.com/-0iLht5y8YpU/Vp15W0KLj3I...</td>\n",
       "      <td>3215330</td>\n",
       "      <td>3937</td>\n",
       "      <td>2139261029</td>\n",
       "      <td>8</td>\n",
       "      <td>2</td>\n",
       "      <td>19</td>\n",
       "      <td>...</td>\n",
       "      <td>7</td>\n",
       "      <td>2</td>\n",
       "      <td>1</td>\n",
       "      <td>1</td>\n",
       "      <td>2</td>\n",
       "      <td>4</td>\n",
       "      <td>2</td>\n",
       "      <td>3</td>\n",
       "      <td>3</td>\n",
       "      <td>1</td>\n",
       "    </tr>\n",
       "  </tbody>\n",
       "</table>\n",
       "<p>1 rows × 45 columns</p>\n",
       "</div>"
      ],
      "text/plain": [
       "        title                                               desc country  \\\n",
       "0  GameGrumps  Game Grumps: Dan and Arin playin' games. Alway...     n/a   \n",
       "\n",
       "                                              banner     subs  videos  \\\n",
       "0  https://yt3.ggpht.com/-0iLht5y8YpU/Vp15W0KLj3I...  3215330    3937   \n",
       "\n",
       "        views  /m/0g65_  /m/07yv9  /m/01mw1     ...       /m/013f7bmb  \\\n",
       "0  2139261029         8         2        19     ...                 7   \n",
       "\n",
       "   /m/01bz5k  /m/03h8_g  /m/0215n  /m/0hcr  /m/0jt_x  /m/095bb  /m/05h5m  \\\n",
       "0          2          1         1        2         4         2         3   \n",
       "\n",
       "   /m/085jw  /m/010xc8lh  \n",
       "0         3            1  \n",
       "\n",
       "[1 rows x 45 columns]"
      ]
     },
     "execution_count": 3,
     "metadata": {},
     "output_type": "execute_result"
    }
   ],
   "source": [
    "y"
   ]
  },
  {
   "cell_type": "code",
   "execution_count": 4,
   "metadata": {
    "collapsed": true
   },
   "outputs": [],
   "source": [
    "df = extract_data.get_channel_data('News & Politics')"
   ]
  },
  {
   "cell_type": "code",
   "execution_count": 6,
   "metadata": {
    "collapsed": false
   },
   "outputs": [],
   "source": [
    "s = 'FunGames'\n",
    "s = s.replace(' ', '_').replace('&', 'and')"
   ]
  },
  {
   "cell_type": "code",
   "execution_count": 5,
   "metadata": {
    "collapsed": false
   },
   "outputs": [
    {
     "data": {
      "text/html": [
       "<div>\n",
       "<table border=\"1\" class=\"dataframe\">\n",
       "  <thead>\n",
       "    <tr style=\"text-align: right;\">\n",
       "      <th></th>\n",
       "      <th>title</th>\n",
       "      <th>desc</th>\n",
       "      <th>country</th>\n",
       "      <th>banner</th>\n",
       "      <th>subs</th>\n",
       "      <th>videos</th>\n",
       "      <th>views</th>\n",
       "      <th>topics</th>\n",
       "    </tr>\n",
       "  </thead>\n",
       "  <tbody>\n",
       "    <tr>\n",
       "      <th>0</th>\n",
       "      <td>VICE News</td>\n",
       "      <td>VICE News is an international news channel cre...</td>\n",
       "      <td>US</td>\n",
       "      <td>https://yt3.ggpht.com/--v58fhBRrVU/Vov6L-ora3I...</td>\n",
       "      <td>1828803</td>\n",
       "      <td>1711</td>\n",
       "      <td>374641560</td>\n",
       "      <td>{u'/m/0329by': 1, u'/m/0ytgt': 1, u'/m/09dhj':...</td>\n",
       "    </tr>\n",
       "    <tr>\n",
       "      <th>1</th>\n",
       "      <td>Pete Santilli Show</td>\n",
       "      <td>This is the official YouTube channel of The Pe...</td>\n",
       "      <td>n/a</td>\n",
       "      <td>https://yt3.ggpht.com/-DX83XvsGq9s/VkHeCkfDLEI...</td>\n",
       "      <td>68203</td>\n",
       "      <td>2038</td>\n",
       "      <td>19924874</td>\n",
       "      <td>{u'/m/02y3rj': 2, u'/m/02dsz': 1, u'/m/07yv9':...</td>\n",
       "    </tr>\n",
       "    <tr>\n",
       "      <th>2</th>\n",
       "      <td>Larry King</td>\n",
       "      <td>Larry King brings you newsmakers of every stri...</td>\n",
       "      <td>n/a</td>\n",
       "      <td>https://yt3.ggpht.com/-gS40lLsiljg/UcHhxcgx1-I...</td>\n",
       "      <td>88135</td>\n",
       "      <td>3280</td>\n",
       "      <td>44143806</td>\n",
       "      <td>{u'/m/05kc29': 4, u'/m/02jjt': 16, u'/m/0b6lgk...</td>\n",
       "    </tr>\n",
       "    <tr>\n",
       "      <th>3</th>\n",
       "      <td>CBS Los Angeles</td>\n",
       "      <td>Official YouTube channel for CBS Los Angeles. ...</td>\n",
       "      <td>n/a</td>\n",
       "      <td>https://yt3.ggpht.com/-lodNxDL-45M/UwfLmNPsxpI...</td>\n",
       "      <td>0</td>\n",
       "      <td>8306</td>\n",
       "      <td>18698364</td>\n",
       "      <td>{u'/m/0d075m': 1, u'/m/020v6m': 1, u'/m/030qb3...</td>\n",
       "    </tr>\n",
       "    <tr>\n",
       "      <th>4</th>\n",
       "      <td>The Young Turks</td>\n",
       "      <td>The Largest Online News Show in the World. Hos...</td>\n",
       "      <td>n/a</td>\n",
       "      <td>https://yt3.ggpht.com/-A7opeYwaMNw/U-jKmvRBopI...</td>\n",
       "      <td>2836044</td>\n",
       "      <td>24874</td>\n",
       "      <td>2650358130</td>\n",
       "      <td>{u'/m/0157m': 1, u'/m/020m7t': 2, u'/m/0509p':...</td>\n",
       "    </tr>\n",
       "  </tbody>\n",
       "</table>\n",
       "</div>"
      ],
      "text/plain": [
       "                title                                               desc  \\\n",
       "0           VICE News  VICE News is an international news channel cre...   \n",
       "1  Pete Santilli Show  This is the official YouTube channel of The Pe...   \n",
       "2          Larry King  Larry King brings you newsmakers of every stri...   \n",
       "3     CBS Los Angeles  Official YouTube channel for CBS Los Angeles. ...   \n",
       "4     The Young Turks  The Largest Online News Show in the World. Hos...   \n",
       "\n",
       "  country                                             banner     subs  videos  \\\n",
       "0      US  https://yt3.ggpht.com/--v58fhBRrVU/Vov6L-ora3I...  1828803    1711   \n",
       "1     n/a  https://yt3.ggpht.com/-DX83XvsGq9s/VkHeCkfDLEI...    68203    2038   \n",
       "2     n/a  https://yt3.ggpht.com/-gS40lLsiljg/UcHhxcgx1-I...    88135    3280   \n",
       "3     n/a  https://yt3.ggpht.com/-lodNxDL-45M/UwfLmNPsxpI...        0    8306   \n",
       "4     n/a  https://yt3.ggpht.com/-A7opeYwaMNw/U-jKmvRBopI...  2836044   24874   \n",
       "\n",
       "        views                                             topics  \n",
       "0   374641560  {u'/m/0329by': 1, u'/m/0ytgt': 1, u'/m/09dhj':...  \n",
       "1    19924874  {u'/m/02y3rj': 2, u'/m/02dsz': 1, u'/m/07yv9':...  \n",
       "2    44143806  {u'/m/05kc29': 4, u'/m/02jjt': 16, u'/m/0b6lgk...  \n",
       "3    18698364  {u'/m/0d075m': 1, u'/m/020v6m': 1, u'/m/030qb3...  \n",
       "4  2650358130  {u'/m/0157m': 1, u'/m/020m7t': 2, u'/m/0509p':...  "
      ]
     },
     "execution_count": 5,
     "metadata": {},
     "output_type": "execute_result"
    }
   ],
   "source": [
    "df.head()"
   ]
  },
  {
   "cell_type": "code",
   "execution_count": 57,
   "metadata": {
    "collapsed": false
   },
   "outputs": [
    {
     "name": "stderr",
     "output_type": "stream",
     "text": [
      "/home/alex/anaconda2/lib/python2.7/site-packages/ipykernel/__main__.py:6: SettingWithCopyWarning: \n",
      "A value is trying to be set on a copy of a slice from a DataFrame\n",
      "\n",
      "See the caveats in the documentation: http://pandas.pydata.org/pandas-docs/stable/indexing.html#indexing-view-versus-copy\n"
     ]
    }
   ],
   "source": [
    "for topic in df.columns[5:]:\n",
    "    y[topic] = 0\n",
    "for row in y['topics']:\n",
    "    for i, topic in enumerate(row):\n",
    "        try:\n",
    "            y[topic][i] = 1\n",
    "        except:\n",
    "            y[topic] = 0\n",
    "            y[topic][i] = 1\n",
    "            df[topic] = 0\n",
    "y = y.drop('topics', axis=1)"
   ]
  },
  {
   "cell_type": "code",
   "execution_count": 22,
   "metadata": {
    "collapsed": false
   },
   "outputs": [
    {
     "data": {
      "text/html": [
       "<div>\n",
       "<table border=\"1\" class=\"dataframe\">\n",
       "  <thead>\n",
       "    <tr style=\"text-align: right;\">\n",
       "      <th></th>\n",
       "      <th>title</th>\n",
       "      <th>country</th>\n",
       "      <th>subs</th>\n",
       "      <th>videos</th>\n",
       "      <th>views</th>\n",
       "      <th>/m/02hrh1q</th>\n",
       "      <th>/m/07vqnc</th>\n",
       "      <th>/m/0gyv1hg</th>\n",
       "      <th>/m/02n4hz</th>\n",
       "      <th>/m/03d3jcv</th>\n",
       "      <th>...</th>\n",
       "      <th>/m/0248b</th>\n",
       "      <th>/m/06l9b</th>\n",
       "      <th>/m/026dz5f</th>\n",
       "      <th>/m/07f_7h</th>\n",
       "      <th>/m/01ct6</th>\n",
       "      <th>/m/079m5l</th>\n",
       "      <th>/m/0174k2</th>\n",
       "      <th>/m/043mm3</th>\n",
       "      <th>/m/05v954</th>\n",
       "      <th>/m/02zw41</th>\n",
       "    </tr>\n",
       "  </thead>\n",
       "  <tbody>\n",
       "    <tr>\n",
       "      <th>0</th>\n",
       "      <td>FaZe Rain</td>\n",
       "      <td>CA</td>\n",
       "      <td>3181752</td>\n",
       "      <td>1302</td>\n",
       "      <td>505886761</td>\n",
       "      <td>0</td>\n",
       "      <td>0</td>\n",
       "      <td>0</td>\n",
       "      <td>0</td>\n",
       "      <td>0</td>\n",
       "      <td>...</td>\n",
       "      <td>0</td>\n",
       "      <td>0</td>\n",
       "      <td>0</td>\n",
       "      <td>0</td>\n",
       "      <td>0</td>\n",
       "      <td>0</td>\n",
       "      <td>0</td>\n",
       "      <td>0</td>\n",
       "      <td>0</td>\n",
       "      <td>0</td>\n",
       "    </tr>\n",
       "    <tr>\n",
       "      <th>1</th>\n",
       "      <td>FGTeeV</td>\n",
       "      <td>US</td>\n",
       "      <td>1508136</td>\n",
       "      <td>883</td>\n",
       "      <td>1635569899</td>\n",
       "      <td>0</td>\n",
       "      <td>0</td>\n",
       "      <td>0</td>\n",
       "      <td>0</td>\n",
       "      <td>0</td>\n",
       "      <td>...</td>\n",
       "      <td>0</td>\n",
       "      <td>0</td>\n",
       "      <td>0</td>\n",
       "      <td>0</td>\n",
       "      <td>0</td>\n",
       "      <td>0</td>\n",
       "      <td>0</td>\n",
       "      <td>0</td>\n",
       "      <td>0</td>\n",
       "      <td>0</td>\n",
       "    </tr>\n",
       "    <tr>\n",
       "      <th>2</th>\n",
       "      <td>Ali-A</td>\n",
       "      <td>GB</td>\n",
       "      <td>7947398</td>\n",
       "      <td>2104</td>\n",
       "      <td>1898281080</td>\n",
       "      <td>0</td>\n",
       "      <td>0</td>\n",
       "      <td>0</td>\n",
       "      <td>0</td>\n",
       "      <td>0</td>\n",
       "      <td>...</td>\n",
       "      <td>0</td>\n",
       "      <td>0</td>\n",
       "      <td>0</td>\n",
       "      <td>0</td>\n",
       "      <td>0</td>\n",
       "      <td>0</td>\n",
       "      <td>0</td>\n",
       "      <td>0</td>\n",
       "      <td>0</td>\n",
       "      <td>0</td>\n",
       "    </tr>\n",
       "    <tr>\n",
       "      <th>3</th>\n",
       "      <td>Aphmau</td>\n",
       "      <td>US</td>\n",
       "      <td>1622414</td>\n",
       "      <td>1827</td>\n",
       "      <td>569954877</td>\n",
       "      <td>0</td>\n",
       "      <td>0</td>\n",
       "      <td>0</td>\n",
       "      <td>0</td>\n",
       "      <td>0</td>\n",
       "      <td>...</td>\n",
       "      <td>0</td>\n",
       "      <td>1</td>\n",
       "      <td>0</td>\n",
       "      <td>0</td>\n",
       "      <td>0</td>\n",
       "      <td>0</td>\n",
       "      <td>0</td>\n",
       "      <td>0</td>\n",
       "      <td>0</td>\n",
       "      <td>0</td>\n",
       "    </tr>\n",
       "    <tr>\n",
       "      <th>4</th>\n",
       "      <td>HikePlays</td>\n",
       "      <td>US</td>\n",
       "      <td>1830016</td>\n",
       "      <td>991</td>\n",
       "      <td>419251873</td>\n",
       "      <td>0</td>\n",
       "      <td>0</td>\n",
       "      <td>0</td>\n",
       "      <td>0</td>\n",
       "      <td>0</td>\n",
       "      <td>...</td>\n",
       "      <td>0</td>\n",
       "      <td>0</td>\n",
       "      <td>0</td>\n",
       "      <td>0</td>\n",
       "      <td>0</td>\n",
       "      <td>0</td>\n",
       "      <td>0</td>\n",
       "      <td>0</td>\n",
       "      <td>0</td>\n",
       "      <td>0</td>\n",
       "    </tr>\n",
       "  </tbody>\n",
       "</table>\n",
       "<p>5 rows × 7192 columns</p>\n",
       "</div>"
      ],
      "text/plain": [
       "       title country     subs  videos       views  /m/02hrh1q  /m/07vqnc  \\\n",
       "0  FaZe Rain      CA  3181752    1302   505886761           0          0   \n",
       "1     FGTeeV      US  1508136     883  1635569899           0          0   \n",
       "2      Ali-A      GB  7947398    2104  1898281080           0          0   \n",
       "3     Aphmau      US  1622414    1827   569954877           0          0   \n",
       "4  HikePlays      US  1830016     991   419251873           0          0   \n",
       "\n",
       "   /m/0gyv1hg  /m/02n4hz  /m/03d3jcv    ...      /m/0248b  /m/06l9b  \\\n",
       "0           0          0           0    ...             0         0   \n",
       "1           0          0           0    ...             0         0   \n",
       "2           0          0           0    ...             0         0   \n",
       "3           0          0           0    ...             0         1   \n",
       "4           0          0           0    ...             0         0   \n",
       "\n",
       "   /m/026dz5f  /m/07f_7h  /m/01ct6  /m/079m5l  /m/0174k2  /m/043mm3  \\\n",
       "0           0          0         0          0          0          0   \n",
       "1           0          0         0          0          0          0   \n",
       "2           0          0         0          0          0          0   \n",
       "3           0          0         0          0          0          0   \n",
       "4           0          0         0          0          0          0   \n",
       "\n",
       "   /m/05v954  /m/02zw41  \n",
       "0          0          0  \n",
       "1          0          0  \n",
       "2          0          0  \n",
       "3          0          0  \n",
       "4          0          0  \n",
       "\n",
       "[5 rows x 7192 columns]"
      ]
     },
     "execution_count": 22,
     "metadata": {},
     "output_type": "execute_result"
    }
   ],
   "source": []
  },
  {
   "cell_type": "code",
   "execution_count": 52,
   "metadata": {
    "collapsed": false
   },
   "outputs": [
    {
     "data": {
      "text/html": [
       "<div>\n",
       "<table border=\"1\" class=\"dataframe\">\n",
       "  <thead>\n",
       "    <tr style=\"text-align: right;\">\n",
       "      <th></th>\n",
       "      <th>title</th>\n",
       "      <th>country</th>\n",
       "      <th>subs</th>\n",
       "      <th>videos</th>\n",
       "      <th>views</th>\n",
       "      <th>/m/02hrh1q</th>\n",
       "      <th>/m/07vqnc</th>\n",
       "      <th>/m/0gyv1hg</th>\n",
       "      <th>/m/02n4hz</th>\n",
       "      <th>/m/03d3jcv</th>\n",
       "      <th>...</th>\n",
       "      <th>/m/0248b</th>\n",
       "      <th>/m/06l9b</th>\n",
       "      <th>/m/026dz5f</th>\n",
       "      <th>/m/07f_7h</th>\n",
       "      <th>/m/01ct6</th>\n",
       "      <th>/m/079m5l</th>\n",
       "      <th>/m/0174k2</th>\n",
       "      <th>/m/043mm3</th>\n",
       "      <th>/m/05v954</th>\n",
       "      <th>/m/02zw41</th>\n",
       "    </tr>\n",
       "  </thead>\n",
       "  <tbody>\n",
       "    <tr>\n",
       "      <th>0</th>\n",
       "      <td>Jesse Cox</td>\n",
       "      <td>US</td>\n",
       "      <td>868471</td>\n",
       "      <td>3325</td>\n",
       "      <td>364973435</td>\n",
       "      <td>0</td>\n",
       "      <td>0</td>\n",
       "      <td>0</td>\n",
       "      <td>0</td>\n",
       "      <td>0</td>\n",
       "      <td>...</td>\n",
       "      <td>0</td>\n",
       "      <td>0</td>\n",
       "      <td>0</td>\n",
       "      <td>0</td>\n",
       "      <td>0</td>\n",
       "      <td>0</td>\n",
       "      <td>0</td>\n",
       "      <td>0</td>\n",
       "      <td>0</td>\n",
       "      <td>0</td>\n",
       "    </tr>\n",
       "  </tbody>\n",
       "</table>\n",
       "<p>1 rows × 7192 columns</p>\n",
       "</div>"
      ],
      "text/plain": [
       "       title country    subs  videos      views  /m/02hrh1q  /m/07vqnc  \\\n",
       "0  Jesse Cox      US  868471    3325  364973435           0          0   \n",
       "\n",
       "   /m/0gyv1hg  /m/02n4hz  /m/03d3jcv    ...      /m/0248b  /m/06l9b  \\\n",
       "0           0          0           0    ...             0         0   \n",
       "\n",
       "   /m/026dz5f  /m/07f_7h  /m/01ct6  /m/079m5l  /m/0174k2  /m/043mm3  \\\n",
       "0           0          0         0          0          0          0   \n",
       "\n",
       "   /m/05v954  /m/02zw41  \n",
       "0          0          0  \n",
       "\n",
       "[1 rows x 7192 columns]"
      ]
     },
     "execution_count": 52,
     "metadata": {},
     "output_type": "execute_result"
    }
   ],
   "source": [
    "y"
   ]
  },
  {
   "cell_type": "code",
   "execution_count": 53,
   "metadata": {
    "collapsed": true
   },
   "outputs": [],
   "source": [
    "from sklearn.metrics.pairwise import cosine_similarity"
   ]
  },
  {
   "cell_type": "code",
   "execution_count": 58,
   "metadata": {
    "collapsed": false
   },
   "outputs": [],
   "source": [
    "df_num = df.drop(np.where(df['title'] == y['title'][0])[0]).drop(['title','country'], axis=1)\n",
    "y_num = y.drop(['title','country'], axis=1)\n",
    "\n",
    "sim_scores = cosine_similarity(df_num, y_num)"
   ]
  },
  {
   "cell_type": "code",
   "execution_count": 59,
   "metadata": {
    "collapsed": false,
    "scrolled": true
   },
   "outputs": [
    {
     "name": "stdout",
     "output_type": "stream",
     "text": [
      "joshscorcher\n",
      "Fed X Gaming\n",
      "Cpt RageTastic\n",
      "AnonymousAffection\n",
      "Box Box\n",
      "Daithi De Nogla\n",
      "ZeroEmpires - Age of Empires 2\n",
      "KPopp\n",
      "Birdman\n",
      "ExoticMoTioN\n"
     ]
    }
   ],
   "source": [
    "for i in np.argsort(sim_scores.T)[0][::-1][:10]:\n",
    "    print df['title'][i]"
   ]
  },
  {
   "cell_type": "code",
   "execution_count": 63,
   "metadata": {
    "collapsed": false
   },
   "outputs": [
    {
     "name": "stdout",
     "output_type": "stream",
     "text": [
      "935                       joshscorcher\n",
      "337                       Fed X Gaming\n",
      "1280                    Cpt RageTastic\n",
      "866                 AnonymousAffection\n",
      "853                            Box Box\n",
      "47                     Daithi De Nogla\n",
      "986     ZeroEmpires - Age of Empires 2\n",
      "457                              KPopp\n",
      "585                            Birdman\n",
      "1273                      ExoticMoTioN\n",
      "Name: title, dtype: object\n"
     ]
    }
   ],
   "source": [
    "print df['title'][np.argsort(sim_scores.T)[0][::-1][:10]]"
   ]
  },
  {
   "cell_type": "code",
   "execution_count": 66,
   "metadata": {
    "collapsed": false
   },
   "outputs": [
    {
     "data": {
      "text/plain": [
       "True"
      ]
     },
     "execution_count": 66,
     "metadata": {},
     "output_type": "execute_result"
    }
   ],
   "source": [
    "any(y)"
   ]
  },
  {
   "cell_type": "code",
   "execution_count": null,
   "metadata": {
    "collapsed": true
   },
   "outputs": [],
   "source": []
  }
 ],
 "metadata": {
  "kernelspec": {
   "display_name": "Python 2",
   "language": "python",
   "name": "python2"
  },
  "language_info": {
   "codemirror_mode": {
    "name": "ipython",
    "version": 2
   },
   "file_extension": ".py",
   "mimetype": "text/x-python",
   "name": "python",
   "nbconvert_exporter": "python",
   "pygments_lexer": "ipython2",
   "version": "2.7.11"
  }
 },
 "nbformat": 4,
 "nbformat_minor": 0
}
