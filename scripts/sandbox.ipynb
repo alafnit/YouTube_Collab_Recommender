{
 "cells": [
  {
   "cell_type": "code",
   "execution_count": 7,
   "metadata": {
    "collapsed": true
   },
   "outputs": [],
   "source": [
    "n = np.array([[1,0,2],[0,0,0],[3,0,0]])\n",
    "df = pd.DataFrame(n)"
   ]
  },
  {
   "cell_type": "code",
   "execution_count": 8,
   "metadata": {
    "collapsed": false
   },
   "outputs": [
    {
     "data": {
      "text/html": [
       "<div>\n",
       "<table border=\"1\" class=\"dataframe\">\n",
       "  <thead>\n",
       "    <tr style=\"text-align: right;\">\n",
       "      <th></th>\n",
       "      <th>0</th>\n",
       "      <th>1</th>\n",
       "      <th>2</th>\n",
       "    </tr>\n",
       "  </thead>\n",
       "  <tbody>\n",
       "    <tr>\n",
       "      <th>0</th>\n",
       "      <td>1</td>\n",
       "      <td>0</td>\n",
       "      <td>2</td>\n",
       "    </tr>\n",
       "    <tr>\n",
       "      <th>1</th>\n",
       "      <td>0</td>\n",
       "      <td>0</td>\n",
       "      <td>0</td>\n",
       "    </tr>\n",
       "    <tr>\n",
       "      <th>2</th>\n",
       "      <td>3</td>\n",
       "      <td>0</td>\n",
       "      <td>0</td>\n",
       "    </tr>\n",
       "  </tbody>\n",
       "</table>\n",
       "</div>"
      ],
      "text/plain": [
       "   0  1  2\n",
       "0  1  0  2\n",
       "1  0  0  0\n",
       "2  3  0  0"
      ]
     },
     "execution_count": 8,
     "metadata": {},
     "output_type": "execute_result"
    }
   ],
   "source": [
    "df"
   ]
  },
  {
   "cell_type": "code",
   "execution_count": 11,
   "metadata": {
    "collapsed": false
   },
   "outputs": [
    {
     "data": {
      "text/plain": [
       "True"
      ]
     },
     "execution_count": 11,
     "metadata": {},
     "output_type": "execute_result"
    }
   ],
   "source": [
    "not any(df[1])"
   ]
  },
  {
   "cell_type": "code",
   "execution_count": 1,
   "metadata": {
    "collapsed": false
   },
   "outputs": [],
   "source": [
    "import sys\n",
    "sys.path.insert(0, '../YTCollab/src')\n",
    "\n",
    "import extract_data\n",
    "import scoreboard"
   ]
  },
  {
   "cell_type": "code",
   "execution_count": 7,
   "metadata": {
    "collapsed": false
   },
   "outputs": [
    {
     "name": "stdout",
     "output_type": "stream",
     "text": [
      "1.27392101288\n"
     ]
    }
   ],
   "source": [
    "y = extract_data.get_specific_channel('UCCbfB3cQtkEAiKfdRQnfQvw')"
   ]
  },
  {
   "cell_type": "code",
   "execution_count": 3,
   "metadata": {
    "collapsed": false
   },
   "outputs": [
    {
     "data": {
      "text/html": [
       "<div>\n",
       "<table border=\"1\" class=\"dataframe\">\n",
       "  <thead>\n",
       "    <tr style=\"text-align: right;\">\n",
       "      <th></th>\n",
       "      <th>title</th>\n",
       "      <th>country</th>\n",
       "      <th>subs</th>\n",
       "      <th>videos</th>\n",
       "      <th>views</th>\n",
       "      <th>/m/03cz_9n</th>\n",
       "      <th>/m/0g65_</th>\n",
       "      <th>/m/010x69ky</th>\n",
       "      <th>/m/01mw1</th>\n",
       "      <th>/m/03glg</th>\n",
       "      <th>...</th>\n",
       "      <th>/m/025zzc</th>\n",
       "      <th>/m/0j7n6j0</th>\n",
       "      <th>/m/019_rr</th>\n",
       "      <th>/m/0cp0zz4</th>\n",
       "      <th>/m/0215n</th>\n",
       "      <th>/m/02ywx</th>\n",
       "      <th>/m/0d19pc</th>\n",
       "      <th>/m/04r1xv</th>\n",
       "      <th>/m/03hf_rm</th>\n",
       "      <th>/m/06w9fz2</th>\n",
       "    </tr>\n",
       "  </thead>\n",
       "  <tbody>\n",
       "    <tr>\n",
       "      <th>0</th>\n",
       "      <td>Jesse Cox</td>\n",
       "      <td>US</td>\n",
       "      <td>868785</td>\n",
       "      <td>3327</td>\n",
       "      <td>365618748</td>\n",
       "      <td>1</td>\n",
       "      <td>2</td>\n",
       "      <td>1</td>\n",
       "      <td>21</td>\n",
       "      <td>1</td>\n",
       "      <td>...</td>\n",
       "      <td>26</td>\n",
       "      <td>1</td>\n",
       "      <td>1</td>\n",
       "      <td>1</td>\n",
       "      <td>1</td>\n",
       "      <td>1</td>\n",
       "      <td>1</td>\n",
       "      <td>1</td>\n",
       "      <td>6</td>\n",
       "      <td>1</td>\n",
       "    </tr>\n",
       "  </tbody>\n",
       "</table>\n",
       "<p>1 rows × 39 columns</p>\n",
       "</div>"
      ],
      "text/plain": [
       "       title country    subs  videos      views  /m/03cz_9n  /m/0g65_  \\\n",
       "0  Jesse Cox      US  868785    3327  365618748           1         2   \n",
       "\n",
       "   /m/010x69ky  /m/01mw1  /m/03glg     ...      /m/025zzc  /m/0j7n6j0  \\\n",
       "0            1        21         1     ...             26           1   \n",
       "\n",
       "   /m/019_rr  /m/0cp0zz4  /m/0215n  /m/02ywx  /m/0d19pc  /m/04r1xv  \\\n",
       "0          1           1         1         1          1          1   \n",
       "\n",
       "   /m/03hf_rm  /m/06w9fz2  \n",
       "0           6           1  \n",
       "\n",
       "[1 rows x 39 columns]"
      ]
     },
     "execution_count": 3,
     "metadata": {},
     "output_type": "execute_result"
    }
   ],
   "source": [
    "y"
   ]
  },
  {
   "cell_type": "code",
   "execution_count": 2,
   "metadata": {
    "collapsed": true
   },
   "outputs": [],
   "source": [
    "d = extract_data._channel_categories()"
   ]
  },
  {
   "cell_type": "code",
   "execution_count": 6,
   "metadata": {
    "collapsed": false
   },
   "outputs": [
    {
     "data": {
      "text/plain": [
       "['Animation',\n",
       " 'Automotive',\n",
       " 'Beauty & Fashion',\n",
       " 'Causes & Non-profits',\n",
       " 'Comedy',\n",
       " 'Cooking & Health',\n",
       " 'Film & Entertainment',\n",
       " 'From TV',\n",
       " 'Gaming',\n",
       " 'How-to & DIY',\n",
       " 'Lifestyle',\n",
       " 'Music',\n",
       " 'News & Politics',\n",
       " 'Science & Education',\n",
       " 'Sports',\n",
       " 'Tech']"
      ]
     },
     "execution_count": 6,
     "metadata": {},
     "output_type": "execute_result"
    }
   ],
   "source": [
    "sorted(d.keys())"
   ]
  },
  {
   "cell_type": "code",
   "execution_count": null,
   "metadata": {
    "collapsed": true
   },
   "outputs": [],
   "source": []
  }
 ],
 "metadata": {
  "kernelspec": {
   "display_name": "Python 2",
   "language": "python",
   "name": "python2"
  },
  "language_info": {
   "codemirror_mode": {
    "name": "ipython",
    "version": 2
   },
   "file_extension": ".py",
   "mimetype": "text/x-python",
   "name": "python",
   "nbconvert_exporter": "python",
   "pygments_lexer": "ipython2",
   "version": "2.7.11"
  }
 },
 "nbformat": 4,
 "nbformat_minor": 0
}
